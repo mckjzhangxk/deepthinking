{
 "cells": [
  {
   "cell_type": "raw",
   "metadata": {},
   "source": [
    "---\n",
    "title: \"数据处理\"\n",
    "toc: true\n",
    "toc-expand: 2\n",
    "format: \n",
    "  html:\n",
    "    code-fold: false\n",
    "jupyter: python3\n",
    "---"
   ]
  },
  {
   "cell_type": "code",
   "execution_count": null,
   "metadata": {},
   "outputs": [],
   "source": [
    "import numpy as np\n",
    "import torch.nn as nn\n",
    "from torch.utils.data import dataset, sampler, dataloader"
   ]
  },
  {
   "cell_type": "markdown",
   "metadata": {},
   "source": [
    "# torch中数据相关组件"
   ]
  },
  {
   "cell_type": "markdown",
   "metadata": {},
   "source": [
    "## Dataset\n",
    "\n",
    "\n",
    "- 数据源，数据的集合\n",
    "- 我们必须知道数据源的大小(```len```)，如何获得每个数据源的元素(```getitem```)\n",
    "- 初始化过程中，一般会加载整个数据集合。\n",
    "- ```__getitem(index)__```的index应该理解为key,Dataset可以理解成一个map"
   ]
  },
  {
   "cell_type": "code",
   "execution_count": null,
   "metadata": {},
   "outputs": [],
   "source": [
    "class MyDataSet(dataset.Dataset):\n",
    "    def __init__(self,n=100) :\n",
    "        self.data=list(range(n))\n",
    "    def __len__(self):\n",
    "        return len(self.data)\n",
    "    def __getitem__(self, index):\n",
    "        return self.data[index]"
   ]
  },
  {
   "cell_type": "markdown",
   "metadata": {},
   "source": [
    "我们定义上面的数据源，然后查看元素10,20"
   ]
  },
  {
   "cell_type": "code",
   "execution_count": null,
   "metadata": {},
   "outputs": [
    {
     "name": "stdout",
     "output_type": "stream",
     "text": [
      "ds[10]=10,ds[20]=20\n"
     ]
    }
   ],
   "source": [
    "ds=MyDataSet()\n",
    "print(f\"ds[10]={ds[10]},ds[20]={ds[20]}\")"
   ]
  },
  {
   "cell_type": "markdown",
   "metadata": {},
   "source": [
    "### DataSet example\n",
    "\n",
    "我们创建一个Paddy数据的Dataset类,Paddy数的目录结构是：basepath/label/image.jpg"
   ]
  },
  {
   "cell_type": "code",
   "execution_count": null,
   "metadata": {},
   "outputs": [],
   "source": [
    "from fastai.vision.all import *\n",
    "class PaddyDataSet(dataset.Dataset):\n",
    "    def __init__(self,basepath='') :\n",
    "        self.data=get_image_files(basepath)\n",
    "    def __len__(self):\n",
    "        return len(self.data)\n",
    "    def __getitem__(self, index):\n",
    "        filepath=self.data[index]\n",
    "        x=Image.open(filepath)\n",
    "        y=parent_label(filepath)\n",
    "        return x,y"
   ]
  },
  {
   "cell_type": "markdown",
   "metadata": {},
   "source": [
    "创建一个数据集PaddyDataSet"
   ]
  },
  {
   "cell_type": "code",
   "execution_count": null,
   "metadata": {},
   "outputs": [
    {
     "name": "stdout",
     "output_type": "stream",
     "text": [
      "ds size=10407,item=(<PIL.JpegImagePlugin.JpegImageFile image mode=RGB size=480x640>, 'dead_heart')\n"
     ]
    },
    {
     "data": {
      "image/png": "[encoded data removed]",
      "text/plain": [
       "<PIL.Image.Image image mode=RGB size=75x100>"
      ]
     },
     "execution_count": null,
     "metadata": {},
     "output_type": "execute_result"
    }
   ],
   "source": [
    "ds=PaddyDataSet('/Users/zhanggxk/project/paddy/data/train_images')\n",
    "item=ds[10]\n",
    "print(f'ds size={len(ds)},item={item}')\n",
    "item[0].to_thumb(100,)\n"
   ]
  },
  {
   "cell_type": "markdown",
   "metadata": {},
   "source": [
    "## DataLoader对象"
   ]
  },
  {
   "cell_type": "markdown",
   "metadata": {},
   "source": [
    "DataLoader用于批量组合 Dataset的item,并把item转换成为tensor,准备输入给model\n",
    "\n",
    "- 迭代一个DataLoader,会触发batch_size次调用 Dateset的getitem方法。\n",
    "- Shuffle Dataset的顺序\n",
    "- 在调用Dataset.getitem的时候， 使用的key是int类型，如果dataset的key是其他类型，需要传递```自定义sampler```\n",
    "-  shuffle参数是对key是int类型的数据集就行随机打乱的选项，```自定义sampler``` 不能使用这个参数。\n",
    "- ```collate_fn```定义了如何把 原始的batah_data(```list of items```) 进一步 转换"
   ]
  },
  {
   "cell_type": "code",
   "execution_count": null,
   "metadata": {},
   "outputs": [
    {
     "name": "stdout",
     "output_type": "stream",
     "text": [
      "size of loader 20\n",
      "one batch : tensor([0, 1, 2, 3, 4])\n"
     ]
    }
   ],
   "source": [
    "data_loader=dataloader.DataLoader(\n",
    "    MyDataSet(),\n",
    "    batch_size=5,\n",
    "    shuffle=False,\n",
    "    drop_last=False,\n",
    ")\n",
    "print(f\"size of loader {len(data_loader)}\")\n",
    "print(f\"one batch : {next(iter(data_loader))}\")"
   ]
  },
  {
   "cell_type": "markdown",
   "metadata": {},
   "source": [
    "### Paddy DataLoader example"
   ]
  },
  {
   "cell_type": "code",
   "execution_count": null,
   "metadata": {},
   "outputs": [
    {
     "name": "stdout",
     "output_type": "stream",
     "text": [
      "size of loader 2602\n",
      "one batch : torch.Size([4, 3, 32, 32]),tensor([1, 1, 1, 1])\n"
     ]
    }
   ],
   "source": [
    "def collate_fn(batch_data):\n",
    "    '''\n",
    "        batch_data:[(img1,lb1),(img2,lb2),(img3,lb3)...]\n",
    "    '''\n",
    "    from torchvision import transforms as tfms\n",
    "    toTensor=tfms.ToTensor()\n",
    "\n",
    "    xs=[ toTensor(item[0].resize((32,32)) ) for item in batch_data ]\n",
    "    ys=torch.tensor([ 1 for item in batch_data])\n",
    "\n",
    "    return torch.stack(xs),ys\n",
    "\n",
    "data_loader=dataloader.DataLoader(\n",
    "    PaddyDataSet('/Users/zhanggxk/project/paddy/data/train_images'),\n",
    "    batch_size=4,\n",
    "    shuffle=False,\n",
    "    drop_last=False,\n",
    "    collate_fn=collate_fn\n",
    ")\n",
    "print(f\"size of loader {len(data_loader)}\")\n",
    "batch=next(iter(data_loader))\n",
    "\n",
    "print(f\"one batch : {batch[0].shape},{batch[1]}\")\n"
   ]
  },
  {
   "cell_type": "markdown",
   "metadata": {},
   "source": [
    "## Sampler\n"
   ]
  },
  {
   "cell_type": "markdown",
   "metadata": {},
   "source": [
    "采样器的作用是 从Dataset中，为一个batch 返回 索引。\n",
    "\n",
    "* 返回的索引的元素需要```__get_item(index)__```的index类型兼容。\n",
    "* Sampler也要知道Dataset的大小，这样才能确定返回索引的范围"
   ]
  },
  {
   "cell_type": "code",
   "execution_count": null,
   "metadata": {},
   "outputs": [
    {
     "name": "stdout",
     "output_type": "stream",
     "text": [
      "3 4 5 9 1 8 0 7 2 6 "
     ]
    }
   ],
   "source": [
    "class MyRandomSampler(sampler.Sampler):\n",
    "    def __init__(self,ds_size=100):\n",
    "        self.ds_size=ds_size\n",
    "    def __iter__(self):\n",
    "        return iter(np.random.permutation(range(self.ds_size)))\n",
    "\n",
    "for x in iter(MyRandomSampler(10)):\n",
    "    print(x,end=' ')"
   ]
  },
  {
   "cell_type": "markdown",
   "metadata": {},
   "source": [
    "下面的demo做了一个对比，没有加入MySampler的data_loader返回的batch是固定顺序的，加入MySampler的data_loader返回的batch是随机的排列。"
   ]
  },
  {
   "cell_type": "code",
   "execution_count": null,
   "metadata": {},
   "outputs": [
    {
     "name": "stdout",
     "output_type": "stream",
     "text": [
      "tensor([0, 1, 2]) tensor([3, 4, 5]) tensor([6, 7, 8]) tensor([ 9, 10, 11]) tensor([12, 13, 14]) \n",
      "tensor([12,  8,  9]) tensor([7, 4, 2]) tensor([14,  1, 11]) tensor([0, 5, 6]) tensor([ 3, 10, 13]) "
     ]
    }
   ],
   "source": [
    "data_loader=dataloader.DataLoader(\n",
    "    MyDataSet(n=15),\n",
    "    batch_size=3,\n",
    "    drop_last=False,\n",
    ")\n",
    "\n",
    "for x in data_loader:\n",
    "    print(x,end=' ')\n",
    "\n",
    "\n",
    "data_loader=dataloader.DataLoader(\n",
    "    MyDataSet(n=15),\n",
    "    batch_size=3,\n",
    "    drop_last=False,\n",
    "    sampler=MyRandomSampler(15),\n",
    ")\n",
    "print()\n",
    "for x in data_loader:\n",
    "    print(x,end=' ')"
   ]
  },
  {
   "cell_type": "markdown",
   "metadata": {},
   "source": [
    "###  与DataSet index兼容的 Sampler\n",
    "\n",
    "下面的例子中：\n",
    "\n",
    "* TupleDataSet key=tutle(),value=key中索引对于的值\n",
    "* TupleSampler 的迭代器返回2个key,分别是(i,i+1)\n",
    "* collate_fn是整理函数，输入是 MyDataset的value,这里选择原样返回！"
   ]
  },
  {
   "cell_type": "code",
   "execution_count": null,
   "metadata": {},
   "outputs": [
    {
     "name": "stdout",
     "output_type": "stream",
     "text": [
      "ds[(2,3)]=(2, 3)\n"
     ]
    }
   ],
   "source": [
    "class TupleDataSet(dataset.Dataset):\n",
    "    def __init__(self,n=100) :\n",
    "        self.data=list(range(n))\n",
    "    def __getitem__(self, key):   \n",
    "        v=self.data  \n",
    "        return v[key[0]],v[key[1]]\n",
    "    def __len__(self):\n",
    "        return 10\n",
    "ds=TupleDataSet(10)\n",
    "print(f\"ds[(2,3)]={ds[(2,3)]}\")"
   ]
  },
  {
   "cell_type": "code",
   "execution_count": null,
   "metadata": {},
   "outputs": [
    {
     "name": "stdout",
     "output_type": "stream",
     "text": [
      "[(0, 1), (1, 2), (2, 3)]\n",
      "[(3, 4), (4, 5), (5, 6)]\n",
      "[(6, 7), (7, 8), (8, 9)]\n",
      "[(9, 0)]\n"
     ]
    }
   ],
   "source": [
    "class TupleSampler(sampler.Sampler):\n",
    "    def __init__(self,ds_size):\n",
    "        self.ds_size=ds_size\n",
    "    def __iter__(self):\n",
    "        r=[(i,(i+1)%self.ds_size) for i in range(self.ds_size)]\n",
    "        return iter(r)\n",
    "    \n",
    "data_loader=dataloader.DataLoader(\n",
    "    TupleDataSet(10),\n",
    "    batch_size=3,\n",
    "    shuffle=False,\n",
    "    drop_last=False,\n",
    "    sampler=TupleSampler(10),\n",
    "    collate_fn=lambda x:x\n",
    ")\n",
    "for x in data_loader:\n",
    "    print(x)"
   ]
  },
  {
   "cell_type": "markdown",
   "metadata": {},
   "source": [
    "## 分布式数据组件"
   ]
  },
  {
   "cell_type": "markdown",
   "metadata": {},
   "source": [
    "### DDP(Distribute Data Parallel)\n"
   ]
  },
  {
   "cell_type": "markdown",
   "metadata": {},
   "source": [
    "- 每个GPU上都有相同的模型\n",
    "- 数据分散到不同的GPU上，进行forward,backward\n",
    "- 使用Ring All Reduce 算法，同步不同GPU上的grad\n",
    "- 更新grad\n",
    "\n",
    "|设备|  权重 |\n",
    "| - | - |\n",
    "| G0| w0 |\n",
    "| G1| w1 |\n",
    "| G2| w2 |\n",
    "| G3| w3 |\n",
    "\n",
    "G0->G1->G2->G3->G0\n",
    "\n",
    "第一轮同步\n",
    "|设备|  权重 |\n",
    "| - | - |\n",
    "| G0| w3+w0 |\n",
    "| G1| w0+w1 |\n",
    "| G2| w1+w2 |\n",
    "| G3| w2+w3 |"
   ]
  },
  {
   "cell_type": "code",
   "execution_count": null,
   "metadata": {},
   "outputs": [],
   "source": [
    "from torch.nn.parallel import DistributedDataParallel as DDP\n",
    "import torch.distributed as dist\n",
    "import torch.multiprocessing as mp\n",
    "def setup(rank, world_size):\n",
    "    os.environ['MASTER_ADDR'] = 'localhost'\n",
    "    os.environ['MASTER_PORT'] = '12355'\n",
    "\n",
    "    # initialize the process group\n",
    "    dist.init_process_group(\"gloo\", rank=rank, world_size=world_size)\n",
    "\n",
    "def cleanup():\n",
    "    dist.destroy_process_group()"
   ]
  },
  {
   "cell_type": "code",
   "execution_count": null,
   "metadata": {},
   "outputs": [],
   "source": [
    "class ToyModel(nn.Module):\n",
    "    def __init__(self):\n",
    "        super(ToyModel, self).__init__()\n",
    "        self.net1 = nn.Linear(10, 10)\n",
    "        self.relu = nn.ReLU()\n",
    "        self.net2 = nn.Linear(10, 5)\n",
    "\n",
    "    def forward(self, x):\n",
    "        return self.net2(self.relu(self.net1(x)))"
   ]
  },
  {
   "cell_type": "code",
   "execution_count": null,
   "metadata": {},
   "outputs": [],
   "source": [
    "def demo_basic(rank, world_size):\n",
    "    print(f\"Running basic DDP example on rank {rank}.\")\n",
    "    setup(rank, world_size)\n",
    "\n",
    "    # create model and move it to GPU with id rank\n",
    "    model = ToyModel().to(rank)\n",
    "    ddp_model = DDP(model, device_ids=[rank])\n",
    "\n",
    "    loss_fn = nn.MSELoss()\n",
    "    optimizer = torch.optim.SGD(ddp_model.parameters(), lr=0.001)\n",
    "\n",
    "\n",
    "    xs=torch.randn(20, 10)\n",
    "    labels = torch.randn(20, 5).to(rank)\n",
    "\n",
    "    for i in range(200):\n",
    "        optimizer.zero_grad()\n",
    "        outputs = ddp_model(xs)\n",
    "        loss_fn(outputs, labels).backward()\n",
    "        optimizer.step()\n",
    "\n",
    "    cleanup()"
   ]
  },
  {
   "cell_type": "code",
   "execution_count": null,
   "metadata": {},
   "outputs": [],
   "source": [
    "def run_demo(world_size):\n",
    "    mp.spawn(demo_basic,\n",
    "             args=(world_size,),\n",
    "             nprocs=world_size,\n",
    "             join=True)"
   ]
  },
  {
   "cell_type": "markdown",
   "metadata": {},
   "source": []
  },
  {
   "cell_type": "markdown",
   "metadata": {},
   "source": [
    "# 问题：\n",
    "- 如何把Image转换成tensor\n",
    "- 完成一个image,label的完整的dataloader,包括转成tensor,normal,..."
   ]
  },
  {
   "cell_type": "markdown",
   "metadata": {},
   "source": [
    "from torchvision import transforms as tfms"
   ]
  },
  {
   "cell_type": "markdown",
   "metadata": {},
   "source": []
  }
 ],
 "metadata": {
  "kernelspec": {
   "display_name": "python3",
   "language": "python",
   "name": "python3"
  }
 },
 "nbformat": 4,
 "nbformat_minor": 4
}
