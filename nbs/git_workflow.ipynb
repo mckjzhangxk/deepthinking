{
 "cells": [
  {
   "cell_type": "code",
   "execution_count": null,
   "metadata": {},
   "outputs": [],
   "source": [
    "#| hide\n",
    "from deepthinking.core import *"
   ]
  },
  {
   "cell_type": "markdown",
   "metadata": {},
   "source": [
    "# git\n",
    "\n",
    "> git的常见问题总结"
   ]
  },
  {
   "cell_type": "markdown",
   "metadata": {},
   "source": [
    "git的常见问题总结，避免方便日常开发中在工具使用上的困扰。"
   ]
  },
  {
   "cell_type": "markdown",
   "metadata": {},
   "source": [
    "## 合并日志"
   ]
  },
  {
   "cell_type": "markdown",
   "metadata": {},
   "source": [
    "使用场景：\n",
    "\n",
    "- 本地做了大量的提交，但是**还没有提交到远程**。\n",
    "- 大量提交的需要合并到一条提交。\n",
    "- 注意：合并的顺序是 **晚的提交合并到早的提交**."
   ]
  },
  {
   "cell_type": "markdown",
   "metadata": {},
   "source": [
    "```sh\n",
    "git rebase -i HEAD~4\n",
    "\n",
    "#pick   保留提交\n",
    "#squish 合并到上一提交\n",
    "```"
   ]
  },
  {
   "cell_type": "markdown",
   "metadata": {},
   "source": [
    "## Reset"
   ]
  },
  {
   "cell_type": "markdown",
   "metadata": {},
   "source": [
    "使用场景：\n",
    "\n",
    "- 需要撤销当前的commit。\n",
    "- soft,hard区别在于，soft撤销提交，但保留更改，之前提交的文件是unstage状态。hard会把更改痕迹也抹除掉。\n",
    "- 注意：**这一命令应该用于未提交到远程的commit**.\n",
    "```sh\n",
    "git reset --soft HEAD~1 #回到上一提交，保存当前提交的更改\n",
    "git reset --hard HEAD~1 #回到上一提交 \n",
    "git reset               #重置stage(git add)\n",
    "```"
   ]
  },
  {
   "cell_type": "markdown",
   "metadata": {},
   "source": [
    "# stashing"
   ]
  },
  {
   "cell_type": "markdown",
   "metadata": {},
   "source": [
    "使用场景：\n",
    "\n",
    "- 需要切换branch，但是当前还有未提交的文件。\n",
    "- 有些命令如rebase，需要有暂存。\n",
    "\n",
    "```sh\n",
    "git stash  #把当前未提交的更改加入 stash中\n",
    "\n",
    "git stash list # \n",
    "git stash show stash@{0} \n",
    "\n",
    "git stash pop #stash中 还原最近一条的暂存\n",
    "git stash pop stash@{0}\n",
    "```"
   ]
  },
  {
   "cell_type": "code",
   "execution_count": null,
   "metadata": {},
   "outputs": [],
   "source": []
  }
 ],
 "metadata": {
  "kernelspec": {
   "display_name": "Python 3 (ipykernel)",
   "language": "python",
   "name": "python3"
  },
  "language_info": {
   "codemirror_mode": {
    "name": "ipython",
    "version": 3
   },
   "file_extension": ".py",
   "mimetype": "text/x-python",
   "name": "python",
   "nbconvert_exporter": "python",
   "pygments_lexer": "ipython3",
   "version": "3.10.9"
  }
 },
 "nbformat": 4,
 "nbformat_minor": 4
}
