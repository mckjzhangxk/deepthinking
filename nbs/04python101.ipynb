{
 "cells": [
  {
   "cell_type": "raw",
   "id": "5962401b-9d9d-4816-b1c9-6d7b9848dbf4",
   "metadata": {},
   "source": [
    "---\n",
    "title: \"python101\"\n",
    "toc: true\n",
    "toc-expand: 2\n",
    "format: \n",
    "  html:\n",
    "    code-fold: false\n",
    "jupyter: python3\n",
    "---"
   ]
  },
  {
   "cell_type": "markdown",
   "id": "7b5adc75-278e-4d8e-a33f-d2013fe5a1d4",
   "metadata": {},
   "source": [
    "# [generator与Iterator](https://www.educative.io/answers/generator-vs-iterator-in-python)\n",
    "\n",
    "generator总是Iterator，而Iterator不总是generator。\n",
    "\n",
    "\n",
    "| name  | 语法 | 特点 |\n",
    "| --- | --- | --- |\n",
    "| generator | 函数使用`yield`关键字 | `yield`关键字之前的变量会被保存 |\n",
    "| Iterator | 类实现`iter,next`方法 | 无需保存任何变量 |"
   ]
  },
  {
   "cell_type": "code",
   "execution_count": 3,
   "id": "90228964-1524-43ba-a47a-a4f3d7137a5a",
   "metadata": {},
   "outputs": [
    {
     "data": {
      "text/plain": [
       "[2, 3, 4, 5, 6, 7, 8, 9]"
      ]
     },
     "execution_count": 3,
     "metadata": {},
     "output_type": "execute_result"
    }
   ],
   "source": [
    "def custom_generator():\n",
    "    for i in range(2,10):\n",
    "        yield i\n",
    "list(custom_generator())"
   ]
  },
  {
   "cell_type": "code",
   "execution_count": 4,
   "id": "da7eb3f6-1414-4ae6-86f1-2432f07176fc",
   "metadata": {},
   "outputs": [
    {
     "data": {
      "text/plain": [
       "[2, 3, 4, 5, 6, 7, 8, 9]"
      ]
     },
     "execution_count": 4,
     "metadata": {},
     "output_type": "execute_result"
    }
   ],
   "source": [
    "class custom_iter():\n",
    "    def __init__(self):\n",
    "        self.n=1\n",
    "    def __iter__(self):\n",
    "        return self\n",
    "    def __next__(self):\n",
    "        self.n+=1\n",
    "        if self.n>9:\n",
    "            raise StopIteration\n",
    "        return self.n\n",
    "it=custom_iter()\n",
    "list(it)"
   ]
  },
  {
   "cell_type": "markdown",
   "id": "c662bbe1-ccae-4404-b6eb-bdc3a751b105",
   "metadata": {},
   "source": [
    "# python Debug\n",
    "\n",
    "```python\n",
    "import pdb\n",
    "\n",
    "pdb.set_trace()\n",
    "```"
   ]
  },
  {
   "cell_type": "code",
   "execution_count": null,
   "id": "cb66d3e8-a683-4d07-85be-0d31421ea15d",
   "metadata": {},
   "outputs": [],
   "source": []
  }
 ],
 "metadata": {
  "kernelspec": {
   "display_name": "Python 3 (ipykernel)",
   "language": "python",
   "name": "python3"
  },
  "language_info": {
   "codemirror_mode": {
    "name": "ipython",
    "version": 3
   },
   "file_extension": ".py",
   "mimetype": "text/x-python",
   "name": "python",
   "nbconvert_exporter": "python",
   "pygments_lexer": "ipython3",
   "version": "3.10.9"
  }
 },
 "nbformat": 4,
 "nbformat_minor": 5
}
