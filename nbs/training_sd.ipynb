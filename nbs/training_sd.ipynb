{
 "cells": [
  {
   "cell_type": "code",
   "execution_count": null,
   "id": "422d3e30-e152-4e06-9b62-29aec2cfafc1",
   "metadata": {},
   "outputs": [],
   "source": [
    "#| hide\n",
    "!pip install diffusers\n",
    "!pip install transformers\n",
    "!pip install bitsandbytes\n",
    "!pip install nbdev\n",
    "!pip install accelerate"
   ]
  },
  {
   "cell_type": "code",
   "execution_count": 16,
   "id": "87fff5a1-99ae-49f7-9a6a-383cfd460e99",
   "metadata": {},
   "outputs": [],
   "source": [
    "#| export\n",
    "from tqdm.auto import tqdm\n",
    "from diffusers import AutoencoderKL,UNet2DConditionModel,LMSDiscreteScheduler\n",
    "from transformers import CLIPTextModel, CLIPTokenizer\n",
    "import torch,numpy as np\n",
    "import torch.nn.functional as F,torch.nn as nn\n",
    "from torchvision import transforms as tfms\n",
    "from  PIL import Image\n",
    "from dataclasses import dataclass\n",
    "from torch.utils.data import dataset, sampler, dataloader\n",
    "import gc,os\n",
    "import bitsandbytes as bnb\n",
    "from accelerate import Accelerator\n",
    "    # from accelerate import Accelerator"
   ]
  },
  {
   "cell_type": "code",
   "execution_count": 46,
   "id": "85291342-1940-4a51-901e-64c7cdf986cf",
   "metadata": {},
   "outputs": [],
   "source": [
    "#| default_exp imageic_train"
   ]
  },
  {
   "cell_type": "markdown",
   "id": "c066807e-10c6-4c4b-ab87-397d24c89eca",
   "metadata": {},
   "source": [
    "## 超参准备"
   ]
  },
  {
   "cell_type": "code",
   "execution_count": 62,
   "id": "58037b82-af30-4039-9bb3-ab97afdc6679",
   "metadata": {},
   "outputs": [],
   "source": [
    "#| export\n",
    "@dataclass\n",
    "class HiperParam:\n",
    "    optimizer_training_loop:int=4\n",
    "    unet_training_loop:int=3\n",
    "    batch_size:int=1\n",
    "    lr:float=1e-6\n",
    "    lr_emb:float=1e-3\n",
    "    accum_steps:int=1\n",
    "    mix_precison:str='no'\n",
    "    enable_gradient_checkpointing:bool=True\n",
    "    prompt:str='A photo of Barack Obama smiling with a big grin.'\n",
    "    \n",
    "    output:str='weights'\n",
    "    log_interval:int=1\n",
    "hparam=HiperParam()"
   ]
  },
  {
   "cell_type": "code",
   "execution_count": 63,
   "id": "6707ec54-7d74-444d-8741-446884861100",
   "metadata": {},
   "outputs": [
    {
     "data": {
      "text/plain": [
       "HiperParam(optimizer_training_loop=4, unet_training_loop=3, batch_size=1, lr=1e-06, lr_emb=0.001, accum_steps=1, mix_precison='no', enable_gradient_checkpointing=True, prompt='A photo of Barack Obama smiling with a big grin.', output='weights', log_interval=1)"
      ]
     },
     "execution_count": 63,
     "metadata": {},
     "output_type": "execute_result"
    }
   ],
   "source": [
    "os.makedirs(hparam.output,exist_ok=True)\n",
    "hparam"
   ]
  },
  {
   "cell_type": "markdown",
   "id": "a32e6817-4cf1-40c5-86b2-7dc301e9291d",
   "metadata": {},
   "source": [
    "## 工具函数"
   ]
  },
  {
   "cell_type": "code",
   "execution_count": 4,
   "id": "5d5bf41d-1c95-4b13-a5b8-4413365aab13",
   "metadata": {},
   "outputs": [
    {
     "name": "stdout",
     "output_type": "stream",
     "text": [
      "当前环境不是Colab\n"
     ]
    }
   ],
   "source": [
    "#| export\n",
    "def release_cache():\n",
    "    gc.collect()\n",
    "    torch.cuda.empty_cache()\n",
    "    print(torch.cuda.list_gpu_processes())\n",
    "    \n",
    "#把图片排成 rows,cols的网格中，先排cols,后排rows\n",
    "#其中len(imgs)=cols x rows\n",
    "def image_grid(imgs, rows, cols):\n",
    "    w,h = imgs[0].size\n",
    "    grid = Image.new('RGB', size=(cols*w, rows*h))\n",
    "    for i, img in enumerate(imgs): grid.paste(img, box=(i%cols*w, i//cols*h))\n",
    "    return grid\n",
    "def isColab(versoze=False):\n",
    "    try:\n",
    "        import google.colab\n",
    "        IN_COLAB = True\n",
    "    except:\n",
    "        IN_COLAB = False\n",
    "    if versoze:\n",
    "        if IN_COLAB:\n",
    "            print(\"当前环境是Colab\")\n",
    "        else:\n",
    "            print(\"当前环境不是Colab\")\n",
    "    return IN_COLAB\n",
    "_=isColab(True)"
   ]
  },
  {
   "cell_type": "markdown",
   "id": "db0e55b5-220d-4da3-b959-6cae280e9c8e",
   "metadata": {},
   "source": [
    "## 模型准备"
   ]
  },
  {
   "cell_type": "code",
   "execution_count": 59,
   "id": "f137405b-aecd-4618-862e-555daba7cf97",
   "metadata": {},
   "outputs": [
    {
     "name": "stdout",
     "output_type": "stream",
     "text": [
      "pynvml module not found, please install pynvml\n"
     ]
    }
   ],
   "source": [
    "#| export\n",
    "modelName=\"CompVis/stable-diffusion-v1-4\"\n",
    "\n",
    "vae=AutoencoderKL.from_pretrained(modelName,subfolder='vae')\n",
    "tokenizer=CLIPTokenizer.from_pretrained(modelName,subfolder=\"tokenizer\")\n",
    "text_encoder=CLIPTextModel.from_pretrained(modelName,subfolder=\"text_encoder\")\n",
    "unet=UNet2DConditionModel.from_pretrained(modelName,subfolder='unet')\n",
    "schedular=LMSDiscreteScheduler(beta_schedule='scaled_linear',beta_start=0.00085, beta_end=0.012 )\n",
    "\n",
    "release_cache()"
   ]
  },
  {
   "cell_type": "code",
   "execution_count": 60,
   "id": "e513a44d-a343-4c50-97b1-ee3a8fad60ee",
   "metadata": {
    "tags": []
   },
   "outputs": [],
   "source": [
    "#| export\n",
    "@torch.no_grad()\n",
    "def pil2Latents(input_image:Image)-> torch.FloatTensor:\n",
    "    '''\n",
    "    把图片转换成vae的输入，生成的tensor在cpu上\n",
    "    对图片进行的缩放处理，短边变成512px，长边采用中心切割的方式。\n",
    "    返回：size=[1,4,64,64]\n",
    "    '''\n",
    "    image_transforms = tfms.Compose(\n",
    "        [\n",
    "            tfms.Resize(512, interpolation=tfms.InterpolationMode.BILINEAR),\n",
    "            tfms.CenterCrop(512),\n",
    "            tfms.ToTensor(),\n",
    "            tfms.Normalize([0.5], [0.5]),\n",
    "        ]\n",
    "    )\n",
    "    \n",
    "    ts=image_transforms(input_image).unsqueeze(0)\n",
    "    return 0.18215*vae.encode(ts).latent_dist.sample()\n",
    "@torch.no_grad()\n",
    "def latents2Pil(latents:torch.FloatTensor) ->Image:\n",
    "    '''\n",
    "    把隐变量还原成PIL.Image\n",
    "    latents: FloatTensor,size=[1,4,64,64]\n",
    "    '''\n",
    "    # [-1,1] \n",
    "    latent_transforms=tfms.Normalize([-1], [2])\n",
    "    \n",
    "    decode_img=vae.decode(latents/0.18215).sample.detach().cpu()\n",
    "    decode_img=decode_img.permute(0,2,3,1).squeeze()\n",
    "    decode_img=latent_transforms(decode_img).float().clamp(0,1)\n",
    "\n",
    "    arr_img=decode_img.numpy()*255\n",
    "    arr_img=arr_img.astype('uint8')\n",
    "    return Image.fromarray(arr_img)"
   ]
  },
  {
   "cell_type": "code",
   "execution_count": 61,
   "id": "b4b5a3b9-65ec-44ad-a5a8-3b0a5af02d1f",
   "metadata": {},
   "outputs": [
    {
     "data": {
      "image/png": "[encoded data removed]",
      "text/plain": [
       "<PIL.Image.Image image mode=RGB size=64x64>"
      ]
     },
     "execution_count": 61,
     "metadata": {},
     "output_type": "execute_result"
    }
   ],
   "source": [
    "img=Image.open('Obama.jpg')\n",
    "lt=pil2Latents(img)\n",
    "latents2Pil(lt).resize((64,64))"
   ]
  },
  {
   "cell_type": "markdown",
   "id": "f4e2437e-256a-4410-8066-815b10886ae2",
   "metadata": {},
   "source": [
    "## 数据集准备"
   ]
  },
  {
   "cell_type": "code",
   "execution_count": 7,
   "id": "c2b5879c-b3a5-401a-bd3f-0a671ff43423",
   "metadata": {},
   "outputs": [],
   "source": [
    "#| export\n",
    "class ImageDataSet(dataset.Dataset):\n",
    "    def __init__(self,path) :\n",
    "        self.data=pil2Latents(Image.open(path))\n",
    "        self.ids=tokenizer(hparam.prompt,padding='max_length',truncation=True,max_length=tokenizer.model_max_length,return_tensors='pt').input_ids\n",
    "    def __len__(self):\n",
    "        return hparam.batch_size\n",
    "    def __getitem__(self, index):\n",
    "        \n",
    "        noise=torch.rand_like(self.data) #这里需要to\n",
    "        ts=torch.randint(0,1000,(1,)) #这里需要to\n",
    "        model_inp1=schedular.add_noise(self.data,noise,ts)\n",
    "\n",
    "        return model_inp1[0],ts[0],self.ids[0],noise[0]\n",
    "    "
   ]
  },
  {
   "cell_type": "code",
   "execution_count": null,
   "id": "5c0a3550-e50e-429f-92fb-0037f0bccd4d",
   "metadata": {},
   "outputs": [],
   "source": [
    "!wget -O Obama.jpg \"https://github.com/ShivamShrirao/diffusers/blob/main/examples/imagic/imgs/Official_portrait_of_Barack_Obama.jpg?raw=true\""
   ]
  },
  {
   "cell_type": "code",
   "execution_count": 57,
   "id": "c6552807-c171-42cc-a27e-30a88e88751a",
   "metadata": {},
   "outputs": [
    {
     "name": "stdout",
     "output_type": "stream",
     "text": [
      "torch.Size([1, 4, 64, 64]) torch.Size([1, 77]) tensor([711]) torch.Size([1, 4, 64, 64])\n",
      "pynvml module not found, please install pynvml\n"
     ]
    }
   ],
   "source": [
    "#| export\n",
    "ds=ImageDataSet('Obama.jpg')\n",
    "dls=dataloader.DataLoader(ds,hparam.batch_size,shuffle=False)\n",
    "for lt,t,tx,noise in dls:\n",
    "    print(lt.shape,tx.shape,t,noise.shape)\n",
    "del vae \n",
    "release_cache()"
   ]
  },
  {
   "cell_type": "markdown",
   "id": "ae520df5-5e16-4e93-8b68-ea4471b17c27",
   "metadata": {},
   "source": [
    "## 训练代码"
   ]
  },
  {
   "cell_type": "markdown",
   "id": "62761725-e806-4d2c-b51d-defa9aefced7",
   "metadata": {},
   "source": [
    "训练主流程"
   ]
  },
  {
   "cell_type": "code",
   "execution_count": 64,
   "id": "d09c61a2-8c27-41ba-b421-847e16c071b5",
   "metadata": {},
   "outputs": [],
   "source": [
    "#| export\n",
    "def getUNetParams(unet):\n",
    "    if isColab():\n",
    "        return unet.parameters()\n",
    "    else:\n",
    "        return unet.conv_out.parameters() \n",
    "\n",
    "def freeze_weight(model):\n",
    "    for p in model.parameters():\n",
    "        p.requires_grad_(False)\n",
    "def unFreeze_weight(model):\n",
    "    params=model.parameters()\n",
    "    if isinstance(model,UNet2DConditionModel):\n",
    "        params=getUNetParams(model)\n",
    "    for p in params:\n",
    "        p.requires_grad_()\n",
    "        \n",
    "\n",
    "def train_func(hparam,dls,text_encoder,unet):\n",
    "    accelertor=Accelerator(\n",
    "        mixed_precision=hparam.mix_precison,\n",
    "        gradient_accumulation_steps=hparam.accum_steps)\n",
    "    #默认全部都不参与训练\n",
    "    freeze_weight(unet)\n",
    "    if hparam.enable_gradient_checkpointing:\n",
    "        unet.enable_gradient_checkpointing()\n",
    "    \n",
    "    dls,unet,text_encoder=accelertor.prepare(dls,unet,text_encoder)\n",
    "    \n",
    "    \n",
    "    def save_model(obj,name):\n",
    "        if accelertor.is_main_process:\n",
    "            torch.save(obj,f'{hparam.output}/{name}.pt')\n",
    "            \n",
    "    _,_,ids,_ =next(iter(dls))\n",
    "    with torch.inference_mode():\n",
    "        target_emb=text_encoder(ids)\n",
    "        save_model(target_emb,'target')\n",
    "    optimized_emb=nn.Parameter(target_emb.last_hidden_state.float().clone())\n",
    "    del text_encoder\n",
    "    release_cache()\n",
    "    \n",
    "    \n",
    "    \n",
    "    def train_one_stage(pbar,optimizer,t_inp):\n",
    "        for i in pbar:\n",
    "            for model_inp1,t,ids,noise in dls:\n",
    "                with accelertor.accumulate(unet):\n",
    "                    noise_pred = unet(model_inp1, t, encoder_hidden_states=t_inp).sample\n",
    "                    loss=F.mse_loss(noise_pred,noise)\n",
    "                    accelertor.backward(loss)\n",
    "                    optimizer.step()\n",
    "                    optimizer.zero_grad()\n",
    "                    pbar.update(1)\n",
    "\n",
    "                    if i%hparam.log_interval==0:\n",
    "                        pbar.set_postfix(Loss=f\"{loss.cpu().item():.3f}\")\n",
    "    #第一阶段的训练,token_embedding.weights\n",
    "    \n",
    "    optimizer=accelertor.prepare(torch.optim.Adam([optimized_emb],hparam.lr_emb))\n",
    "    pbar=tqdm(range(hparam.optimizer_training_loop),disable=not accelertor.is_main_process)\n",
    "    pbar.set_description(\"step 1\")\n",
    "    train_one_stage(pbar,optimizer,optimized_emb)\n",
    "    \n",
    "    with torch.inference_mode():\n",
    "        save_model(optimized_emb,'optimizer')\n",
    "    \n",
    "    optimized_emb.requires_grad_(False)\n",
    "    \n",
    "    \n",
    "    release_cache()\n",
    "    #第二阶段的训练,unet.weights\n",
    "    \n",
    "    \n",
    "    unFreeze_weight(unet)\n",
    "    \n",
    "    \n",
    "    pbar=tqdm(range(hparam.unet_training_loop),disable=not accelertor.is_main_process)\n",
    "    optimizer=accelertor.prepare(torch.optim.Adam(getUNetParams(unet),hparam.lr))\n",
    "\n",
    "    pbar.set_description(\"step 2\")\n",
    "    train_one_stage(pbar,optimizer,optimized_emb)\n",
    "    \n",
    "    save_model(unet.state_dict(),'unet')\n",
    "    "
   ]
  },
  {
   "cell_type": "code",
   "execution_count": 65,
   "id": "3f858ea9-23d1-4559-b39e-ac3d390cc01d",
   "metadata": {},
   "outputs": [
    {
     "name": "stdout",
     "output_type": "stream",
     "text": [
      "pynvml module not found, please install pynvml\n"
     ]
    },
    {
     "data": {
      "application/vnd.jupyter.widget-view+json": {
       "model_id": "2e857b53c3074744aaf0ee51fe241096",
       "version_major": 2,
       "version_minor": 0
      },
      "text/plain": [
       "  0%|          | 0/4 [00:00<?, ?it/s]"
      ]
     },
     "metadata": {},
     "output_type": "display_data"
    },
    {
     "name": "stdout",
     "output_type": "stream",
     "text": [
      "pynvml module not found, please install pynvml\n"
     ]
    },
    {
     "data": {
      "application/vnd.jupyter.widget-view+json": {
       "model_id": "95f93a5ee0db40e9a3c43f649b055e11",
       "version_major": 2,
       "version_minor": 0
      },
      "text/plain": [
       "  0%|          | 0/3 [00:00<?, ?it/s]"
      ]
     },
     "metadata": {},
     "output_type": "display_data"
    }
   ],
   "source": [
    "#| export\n",
    "if __name__ == '__main__':\n",
    "    train_func(hparam,dls,text_encoder,unet)"
   ]
  },
  {
   "cell_type": "code",
   "execution_count": 1,
   "id": "7dd7bbc3-f855-4e21-a0e6-9434a5254142",
   "metadata": {},
   "outputs": [],
   "source": [
    "from nbdev import nbdev_export\n",
    "nbdev_export('.')"
   ]
  },
  {
   "cell_type": "code",
   "execution_count": 66,
   "id": "a5430889-0354-4242-b79f-6cff6cc364a0",
   "metadata": {},
   "outputs": [
    {
     "name": "stdout",
     "output_type": "stream",
     "text": [
      "Launching training on MPS.\n",
      "pynvml module not found, please install pynvml\n"
     ]
    },
    {
     "data": {
      "application/vnd.jupyter.widget-view+json": {
       "model_id": "95b5017e426a4adf93e188dd776274c3",
       "version_major": 2,
       "version_minor": 0
      },
      "text/plain": [
       "  0%|          | 0/4 [00:00<?, ?it/s]"
      ]
     },
     "metadata": {},
     "output_type": "display_data"
    },
    {
     "name": "stdout",
     "output_type": "stream",
     "text": [
      "pynvml module not found, please install pynvml\n"
     ]
    },
    {
     "data": {
      "application/vnd.jupyter.widget-view+json": {
       "model_id": "902eaf429e1749d4bbc5bee19bb337a0",
       "version_major": 2,
       "version_minor": 0
      },
      "text/plain": [
       "  0%|          | 0/3 [00:00<?, ?it/s]"
      ]
     },
     "metadata": {},
     "output_type": "display_data"
    }
   ],
   "source": [
    "from accelerate import notebook_launcher\n",
    "\n",
    "notebook_launcher(train_func,(hparam,dls,text_encoder,unet),num_processes=1,mixed_precision='fp16')"
   ]
  }
 ],
 "metadata": {
  "kernelspec": {
   "display_name": "Python 3 (ipykernel)",
   "language": "python",
   "name": "python3"
  },
  "language_info": {
   "codemirror_mode": {
    "name": "ipython",
    "version": 3
   },
   "file_extension": ".py",
   "mimetype": "text/x-python",
   "name": "python",
   "nbconvert_exporter": "python",
   "pygments_lexer": "ipython3",
   "version": "3.10.9"
  },
  "toc-showtags": false
 },
 "nbformat": 4,
 "nbformat_minor": 5
}
