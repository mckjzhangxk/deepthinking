{
 "cells": [
  {
   "cell_type": "raw",
   "id": "5962401b-9d9d-4816-b1c9-6d7b9848dbf4",
   "metadata": {},
   "source": [
    "---\n",
    "title: \"python101\"\n",
    "toc: true\n",
    "toc-expand: 2\n",
    "format: \n",
    "  html:\n",
    "    code-fold: false\n",
    "jupyter: python3\n",
    "---"
   ]
  },
  {
   "cell_type": "markdown",
   "id": "7b5adc75-278e-4d8e-a33f-d2013fe5a1d4",
   "metadata": {},
   "source": [
    "# [generator与Iterator](https://www.educative.io/answers/generator-vs-iterator-in-python)\n",
    "\n",
    "generator总是Iterator，而Iterator不总是generator。\n",
    "\n",
    "\n",
    "| name  | 语法 | 特点 |\n",
    "| --- | --- | --- |\n",
    "| generator | 函数使用`yield`关键字 | `yield`关键字之前的变量会被保存 |\n",
    "| Iterator | 类实现`iter,next`方法 | 无需保存任何变量 |"
   ]
  },
  {
   "cell_type": "code",
   "execution_count": 7,
   "id": "90228964-1524-43ba-a47a-a4f3d7137a5a",
   "metadata": {},
   "outputs": [
    {
     "data": {
      "text/plain": [
       "[2, 3, 4, 5, 6, 7, 8, 9]"
      ]
     },
     "execution_count": 7,
     "metadata": {},
     "output_type": "execute_result"
    }
   ],
   "source": [
    "def custom_generator():\n",
    "    for i in range(2,10):\n",
    "        yield i\n",
    "list(custom_generator())"
   ]
  },
  {
   "cell_type": "code",
   "execution_count": 8,
   "id": "da7eb3f6-1414-4ae6-86f1-2432f07176fc",
   "metadata": {},
   "outputs": [
    {
     "data": {
      "text/plain": [
       "[2, 3, 4, 5, 6, 7, 8, 9]"
      ]
     },
     "execution_count": 8,
     "metadata": {},
     "output_type": "execute_result"
    }
   ],
   "source": [
    "class custom_iter():\n",
    "    def __init__(self):\n",
    "        self.n=1\n",
    "    def __iter__(self):\n",
    "        return self\n",
    "    def __next__(self):\n",
    "        self.n+=1\n",
    "        if self.n>9:\n",
    "            raise StopIteration\n",
    "        return self.n\n",
    "it=custom_iter()\n",
    "list(it)"
   ]
  },
  {
   "cell_type": "markdown",
   "id": "6654d305-be49-4e0f-82aa-f2f19ac7d83a",
   "metadata": {},
   "source": [
    "也可以不实现next方法,但是我为什么还需要定义一个类呢？"
   ]
  },
  {
   "cell_type": "code",
   "execution_count": 9,
   "id": "40395540-9b7f-4c79-aeef-023b9dc38f58",
   "metadata": {},
   "outputs": [
    {
     "data": {
      "text/plain": [
       "[2, 3, 4, 5, 6, 7, 8, 9]"
      ]
     },
     "execution_count": 9,
     "metadata": {},
     "output_type": "execute_result"
    }
   ],
   "source": [
    "class custom_iter():\n",
    "    def __iter__(self):\n",
    "        for i in range(2,10):\n",
    "            yield i\n",
    "it=custom_iter()\n",
    "list(it)"
   ]
  },
  {
   "cell_type": "markdown",
   "id": "56d7cd55-ee10-400b-9735-8b002eb11c26",
   "metadata": {},
   "source": [
    "## slice\n",
    "\n",
    "```\n",
    " A[1:10]=A[slice(1,10)]\n",
    "```"
   ]
  },
  {
   "cell_type": "markdown",
   "id": "e7aba1ed-dd15-493f-9d43-55da6b32c124",
   "metadata": {},
   "source": [
    "## islice\n",
    "\n",
    "python的itertools.islice方法 可以让我们从一个迭代器返回另外一个索引范围内的迭代器。"
   ]
  },
  {
   "cell_type": "code",
   "execution_count": 13,
   "id": "88a067c3-ee75-424b-8d3f-b018160e2bb8",
   "metadata": {},
   "outputs": [
    {
     "name": "stdout",
     "output_type": "stream",
     "text": [
      "[1, 2]\n",
      "[0, 1, 2]\n"
     ]
    }
   ],
   "source": [
    "from itertools import islice\n",
    "it=range(10)\n",
    "\n",
    "print(list(islice(it,1,3)))\n",
    "print(list(islice(it,3)))"
   ]
  },
  {
   "cell_type": "markdown",
   "id": "bdcb5352-a3ce-4084-b055-539579ac59e8",
   "metadata": {},
   "source": [
    "## yield from\n",
    "\n",
    "yield from是从一个迭代器，返回另外一个迭代器的方法.\n",
    "```python\n",
    "\n",
    "def g1():\n",
    "    yield from g2\n",
    "def g1():\n",
    "    for x in g2():\n",
    "        yield x\n",
    "```"
   ]
  },
  {
   "cell_type": "code",
   "execution_count": 3,
   "id": "a8556f45-a721-44ef-9a68-ec5c07a46f7b",
   "metadata": {},
   "outputs": [
    {
     "data": {
      "text/plain": [
       "[2, 3, 4, 5, 6, 7, 8, 9]"
      ]
     },
     "execution_count": 3,
     "metadata": {},
     "output_type": "execute_result"
    }
   ],
   "source": [
    "def custom_generator():\n",
    "    for i in range(2,10):\n",
    "        yield i\n",
    "def g1():\n",
    "    it=custom_generator()\n",
    "    # for x in it:\n",
    "    #     yield x\n",
    "    yield from it\n",
    "list(g1())"
   ]
  },
  {
   "cell_type": "code",
   "execution_count": null,
   "id": "3e898da2-b3ae-43e7-9a1d-dd62833cda79",
   "metadata": {},
   "outputs": [],
   "source": [
    "# python Debug\n",
    "\n",
    "```python\n",
    "import pdb\n",
    "\n",
    "pdb.set_trace()\n",
    "```"
   ]
  },
  {
   "cell_type": "markdown",
   "id": "beb1a264-8115-489d-b686-5f754edd9c03",
   "metadata": {},
   "source": [
    "# Zip\n",
    "\n",
    "Zip的含义可以理解成矩阵的 Transpose。换言之把 `List[Tuple]`通过 zip运算转换成`Tuple[List]`"
   ]
  },
  {
   "cell_type": "code",
   "execution_count": 24,
   "id": "b56bcc82-7c4c-49ef-92e1-ea3d21c298c1",
   "metadata": {},
   "outputs": [
    {
     "name": "stdout",
     "output_type": "stream",
     "text": [
      "[[0, 1], [2, 3], [4, 5], [6, 7]]\n",
      "[(0, 2, 4, 6), (1, 3, 5, 7)]\n"
     ]
    }
   ],
   "source": [
    "import torch\n",
    "\n",
    "#4行2列\n",
    "A=torch.arange(8).reshape(4,2).numpy().tolist()\n",
    "print(A)\n",
    "\n",
    "#2行4列\n",
    "B1,B2=zip(*A)\n",
    "print([B1,B2])"
   ]
  },
  {
   "cell_type": "markdown",
   "id": "c349297f-a9a6-422d-a131-7a4b5d6c8c59",
   "metadata": {},
   "source": [
    "# [typing](https://www.bilibili.com/video/BV1kq4y1o7DB/?spm_id_from=333.337.search-card.all.click&vd_source=ba17c91d27a087001a89289fd2c2af49)\n",
    "\n",
    "强制我们的语言有了类型，这样能用更好的利用IDE的自动补全功能。"
   ]
  },
  {
   "cell_type": "code",
   "execution_count": 20,
   "id": "1b580158-3fc6-4668-9280-83c8eb9967c1",
   "metadata": {},
   "outputs": [],
   "source": [
    "from typing import Dict,List,Set,Any,Optional,Sequence,Callable"
   ]
  },
  {
   "cell_type": "code",
   "execution_count": 12,
   "id": "bdb64f07-2348-4cf0-b0ee-81445f84bc75",
   "metadata": {},
   "outputs": [],
   "source": [
    "def f(V:Dict[str,int],indexes:List[int]) ->None:\n",
    "    pass"
   ]
  },
  {
   "cell_type": "markdown",
   "id": "bf6e8575-a751-4f64-ba86-1a0469b03611",
   "metadata": {},
   "source": [
    "2.符合类型：我们可以任意组合我们自定义的类型"
   ]
  },
  {
   "cell_type": "code",
   "execution_count": 10,
   "id": "59d52aca-3ad7-4ca2-82b4-d671fee4864e",
   "metadata": {},
   "outputs": [],
   "source": [
    "Vector=List[float]\n",
    "Matrix=List[Vector]\n",
    "\n",
    "def mul(A:Matrix,b:Vector)->Vector:\n",
    "    pass"
   ]
  },
  {
   "cell_type": "markdown",
   "id": "07fbaadf-5e05-47b2-9601-cbbd9cb97716",
   "metadata": {},
   "source": [
    "3.Optional,Any。Optional表示可选类型，Any表示任意类型"
   ]
  },
  {
   "cell_type": "code",
   "execution_count": 15,
   "id": "27e00b2b-cd8d-4aea-a4bb-6009525fe95a",
   "metadata": {},
   "outputs": [],
   "source": [
    "def foo(check:Optional[bool])-> Any:\n",
    "    pass"
   ]
  },
  {
   "cell_type": "markdown",
   "id": "2526ec6f-d224-4aea-8ba6-a4c6770dca67",
   "metadata": {},
   "source": [
    "4 Sequence类型,表示序列，而不在意具体是那种实现(如 List,Tuple)"
   ]
  },
  {
   "cell_type": "code",
   "execution_count": 18,
   "id": "d3927c05-4f00-4fc5-b208-8ca11b88a3c9",
   "metadata": {},
   "outputs": [],
   "source": [
    "def foo(check:Sequence[str])-> Any:\n",
    "    pass\n",
    "foo(['a','b'])\n",
    "foo(('a','b'))\n",
    "foo(\"abcd\")"
   ]
  },
  {
   "cell_type": "markdown",
   "id": "8be71f2a-3980-4149-869a-88b0b6fc09f8",
   "metadata": {},
   "source": [
    "5.Callable类型，对应于函数或者lambda函数,如下函数返回一个函数，"
   ]
  },
  {
   "cell_type": "code",
   "execution_count": 26,
   "id": "0eb31251-cac5-4beb-adc1-bc9393e234e9",
   "metadata": {},
   "outputs": [
    {
     "data": {
      "text/plain": [
       "True"
      ]
     },
     "execution_count": 26,
     "metadata": {},
     "output_type": "execute_result"
    }
   ],
   "source": [
    "def foo()->Callable[[int,str],bool]:\n",
    "    return lambda x,y:True\n",
    "foo()(1,'hello')"
   ]
  },
  {
   "cell_type": "markdown",
   "id": "5b44dae8-a3e5-4e76-9a9a-cf5612f30fcd",
   "metadata": {},
   "source": [
    "6.泛型"
   ]
  },
  {
   "cell_type": "code",
   "execution_count": 31,
   "id": "cc0092a8-d353-46c3-9a50-6d5a6653aa40",
   "metadata": {},
   "outputs": [
    {
     "name": "stdout",
     "output_type": "stream",
     "text": [
      "3\n",
      "3\n"
     ]
    }
   ],
   "source": [
    "from typing import TypeVar,List\n",
    "\n",
    "#定义一个类型，这是一个占位符\n",
    "T=TypeVar(\"T\")\n",
    "\n",
    "def getItem(xs :List[T],index:int)->T:\n",
    "    return xs[index]\n",
    "\n",
    "X=[1,2,3]\n",
    "print(getItem(X,2))\n",
    "X=['1','2','3']\n",
    "print(getItem(X,2))"
   ]
  },
  {
   "cell_type": "markdown",
   "id": "9de5ca91-b90e-404a-8c06-28faea505b2a",
   "metadata": {},
   "source": [
    "# __dunder__方法\n",
    "- `__getitem__`\n",
    "- `__getattr__`\n",
    "- `__setattr__`\n",
    "- `__del__`\n",
    "- `__init__`\n",
    "- `__new__`\n",
    "- `__enter__`\n",
    "- `__exit__`\n",
    "- `__len__`\n",
    "- `__repr__`\n",
    "- `__str__`"
   ]
  },
  {
   "cell_type": "code",
   "execution_count": 28,
   "id": "b84c10e7-ce3d-4266-a4db-702d59b2a165",
   "metadata": {},
   "outputs": [
    {
     "data": {
      "text/plain": [
       "True"
      ]
     },
     "execution_count": 28,
     "metadata": {},
     "output_type": "execute_result"
    }
   ],
   "source": [
    "class Foo():\n",
    "    def __init__(self):\n",
    "        self._modules={}\n",
    "    #对应于foo.k=v操作\n",
    "    def __setattr__(self,k:str,v):\n",
    "        if not k.startswith('_'):\n",
    "            self._modules[k]=v\n",
    "        super().__setattr__(k,v)\n",
    "    def __repr__(self):\n",
    "        return str(self._modules)\n",
    "foo=Foo()\n",
    "foo.a=1\n",
    "hasattr(foo,'a')"
   ]
  }
 ],
 "metadata": {
  "kernelspec": {
   "display_name": "Python 3 (ipykernel)",
   "language": "python",
   "name": "python3"
  },
  "language_info": {
   "codemirror_mode": {
    "name": "ipython",
    "version": 3
   },
   "file_extension": ".py",
   "mimetype": "text/x-python",
   "name": "python",
   "nbconvert_exporter": "python",
   "pygments_lexer": "ipython3",
   "version": "3.10.9"
  }
 },
 "nbformat": 4,
 "nbformat_minor": 5
}
