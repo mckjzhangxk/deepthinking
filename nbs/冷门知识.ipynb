{
 "cells": [
  {
   "cell_type": "raw",
   "id": "d26cade6-b731-432f-8d39-c58d20f4f5d8",
   "metadata": {},
   "source": [
    "---\n",
    "title: \"冷门知识\"\n",
    "toc: true\n",
    "toc-expand: 2\n",
    "format: \n",
    "  html:\n",
    "    code-fold: false\n",
    "jupyter: python3\n",
    "---"
   ]
  },
  {
   "cell_type": "code",
   "execution_count": null,
   "id": "253d8fdf-4616-4e24-83b5-4644df181055",
   "metadata": {},
   "outputs": [],
   "source": [
    "#| default_exp xs"
   ]
  },
  {
   "cell_type": "markdown",
   "id": "f6b00b78-d6b5-4d35-ba3c-0cd1aefddec8",
   "metadata": {},
   "source": [
    "# [IEEE浮点数](https://www.bilibili.com/video/BV1Lx411p7Wn?p=4&vd_source=ba17c91d27a087001a89289fd2c2af49)"
   ]
  },
  {
   "cell_type": "markdown",
   "id": "cf83bd42-1b7b-4775-ab51-30ba04e319d8",
   "metadata": {},
   "source": [
    "\n",
    "一个二进制的浮点数是如下格式的：$1.0101010$\n",
    "\n",
    "fp16:\n",
    "<table  width=\"160\">\n",
    "    <tr>\n",
    "        <th style=\"border: 1px solid black;\" width=\"1\">S</th>\n",
    "        <th style=\"border: 1px solid black;\" width=\"5\">EXP(5)</th>\n",
    "        <th style=\"border: 1px solid black;\" width=\"10\">frac(10)</th>\n",
    "    </tr>\n",
    "</table>\n",
    "\n",
    "fp32:<table  width=\"320\">\n",
    "    <tr>\n",
    "        <th style=\"border: 1px solid black;\" width=\"1\">S</th>\n",
    "        <th style=\"border: 1px solid black;\" width=\"8\">EXP(8)</th>\n",
    "        <th style=\"border: 1px solid black;\" width=\"23\">frac(23)</th>\n",
    "    </tr>\n",
    "</table>\n",
    "\n",
    "fp64:<table  width=\"640\">\n",
    "    <tr>\n",
    "        <th style=\"border: 1px solid black;\" width=\"1\">S</th>\n",
    "        <th style=\"border: 1px solid black;\" width=\"11\">EXP(11)</th>\n",
    "        <th style=\"border: 1px solid black;\" width=\"52\">frac(52)</th>\n",
    "    </tr>\n",
    "</table>\n",
    "\n",
    "**一个二进制的浮点数R=$1.0101010$,在计算机的表达是如下格式**\n",
    "$$R=(-1)^{S}M2^{E}$$\n",
    "\n",
    "**指数部分需要减掉一个偏移量**\n",
    "$$E=max(EXP,1)-bias$$\n",
    "$$bias=2^{EXP.bits-1}-1$$\n",
    "\n",
    "**小数部分M: 分为normal和denormal两种表示形式：**\n",
    "$$M=1.frac$$\n",
    "$$M=0.frac$$ "
   ]
  },
  {
   "cell_type": "markdown",
   "id": "e8ece6f8-20dc-4a25-884c-0deb92a5e86d",
   "metadata": {},
   "source": [
    "| 类型  | EXP(bits) | frac(bits)  | bias | E的范围|精度|最大数值|\n",
    "| -    |         - |           - |   - | - | - |- | \n",
    "| **FP16(half)** |5  | 10 |15  | [-14,15]|1e-7,2^-24 | 2^16|\n",
    "| **FP32(float)** |8  | 23 |127| [-126,127]|1e-45,2^-149 |  2^128|\n",
    "| FP64(double) |11  | 52 |1023    |[-1022,1023]|2^-1075 |  2^1024|\n",
    "\n",
    "\n",
    "**normal,demormal,sepcial value三种表示的总结：**\n",
    "\n",
    "| 类型  | EXP(bits) | frac范围  | 备注说明 |\n",
    "| -     |         - |         - |   - |\n",
    "| normal     |         not 1 and not 0xff |        [1,2) |   - |\n",
    "| denormal     |         0 |         [0,1) |   非常接近0的数字 |\n",
    "| inf     |         0xffff |         0 |   - |\n",
    "| nan     |         0xffff |         非0 |   - |\n"
   ]
  },
  {
   "cell_type": "markdown",
   "id": "0de9013f-d891-497d-b605-10a8fc063622",
   "metadata": {},
   "source": [
    "下面code是把一个binary的浮点数表示(fp16,fp32,fp64),解析成实数的过程。"
   ]
  },
  {
   "cell_type": "code",
   "execution_count": null,
   "id": "834a704c-772d-4d42-a1ee-346a338fca4c",
   "metadata": {},
   "outputs": [
    {
     "name": "stdout",
     "output_type": "stream",
     "text": [
      "S:0,EXP:01101,FRAC:0011011010\n"
     ]
    },
    {
     "data": {
      "text/plain": [
       "0.30322265625"
      ]
     },
     "execution_count": null,
     "metadata": {},
     "output_type": "execute_result"
    }
   ],
   "source": [
    "import struct,numpy  as np\n",
    "from enum import Enum\n",
    "class FloatType(Enum):\n",
    "    Half =0\n",
    "    Single =1\n",
    "    Double =2\n",
    "\n",
    "#fp16,fp32,fp64\n",
    "POSITION_BIAS_TABLE={\n",
    "    FloatType.Half:(5,15),\n",
    "    FloatType.Single:(8,127),\n",
    "    FloatType.Double:(11,1023)\n",
    "}\n",
    "\n",
    "\n",
    "num=np.float16(0.30321)\n",
    "typeIndex=FloatType(0)\n",
    "\n",
    "binary = num.tobytes() #little order\n",
    "binary_str = ''.join(format(b, '08b') for b in reversed(binary))\n",
    "\n",
    "\n",
    "\n",
    "#decode\n",
    "EXP_LEN,bias=POSITION_BIAS_TABLE[typeIndex]\n",
    "\n",
    "#extract bits\n",
    "S=int(binary_str[0],2)\n",
    "EXP=binary_str[1:1+EXP_LEN]\n",
    "FRAC=binary_str[1+EXP_LEN:]\n",
    "\n",
    "print(f'S:{S},EXP:{EXP},FRAC:{FRAC}')\n",
    "\n",
    "int_EXP=int(EXP,2)\n",
    "#合并denormal和normal对E的计算的情况\n",
    "E=max(1,int_EXP)-bias\n",
    "frac_num=sum(int(x)*2**(-p-1)  for p,x in enumerate(FRAC) )\n",
    "M=1+frac_num if int_EXP!=0 else frac_num\n",
    "R=(-1)**S *M*2**(E)\n",
    "R"
   ]
  },
  {
   "cell_type": "markdown",
   "id": "3a7ad24f-b057-4f7a-ba83-babb7731a0ed",
   "metadata": {},
   "source": [
    "# [混合精度的训练](https://www.youtube.com/watch?v=zbBUExOG-To)"
   ]
  },
  {
   "cell_type": "markdown",
   "id": "8aa9040d-c3c8-44c5-b799-daf99cd937ef",
   "metadata": {},
   "source": [
    "训练的时候混合fp16,fp32，保证在不损失accuracy的情况下，大幅提升内存，带宽利用率，降低训练时长。\n",
    "\n",
    "- weights副本存储为fp32。\n",
    "- 中间neuron的计算采用fp16，把weight转成fp16\n",
    "- 计算完成loss，反向传播的grad先放大scale倍，更新的时候再次缩小scale倍.这样可以防止fp16由于精度位数不足造成的精度丢失。\n",
    "  - 静态scale\n",
    "  - 动态scale\n",
    "- batch_norm层采用fp32进行计算"
   ]
  },
  {
   "cell_type": "markdown",
   "id": "f2d5a0c2-e3e2-404f-b581-45c3f549e83d",
   "metadata": {},
   "source": [
    "# inference_mode vs no_grad"
   ]
  },
  {
   "cell_type": "code",
   "execution_count": null,
   "id": "853fe279-c4a8-4120-b987-77158f38c65d",
   "metadata": {},
   "outputs": [],
   "source": [
    "#| hide\n",
    "import torch,torch.nn as nn"
   ]
  },
  {
   "cell_type": "markdown",
   "id": "8e32815b-e878-4e94-9bdc-4ad50b5dcc32",
   "metadata": {},
   "source": [
    "没有no_grad干预下，所有的grad都会被计算"
   ]
  },
  {
   "cell_type": "code",
   "execution_count": null,
   "id": "b2fda342-f20c-4399-8628-f449653cd4ab",
   "metadata": {},
   "outputs": [
    {
     "data": {
      "text/plain": [
       "(tensor([[ 0.1711, -0.5651],\n",
       "         [-0.0390,  0.1287],\n",
       "         [-0.0462,  0.1527]]),\n",
       " tensor([[-0.0105,  0.0041,  0.0186],\n",
       "         [-0.0089,  0.0034,  0.0158],\n",
       "         [ 0.2840, -0.1099, -0.5040],\n",
       "         [ 0.1132, -0.0438, -0.2009]]),\n",
       " tensor([[-0.3451,  0.2710,  0.4948, -0.2939],\n",
       "         [ 0.2144, -0.1684, -0.3074,  0.1826],\n",
       "         [-0.0464,  0.0364,  0.0665, -0.0395],\n",
       "         [-0.2470,  0.1940,  0.3542, -0.2104],\n",
       "         [ 0.0766, -0.0601, -0.1098,  0.0652]]),\n",
       " tensor([[1.0657, 1.1260]]))"
      ]
     },
     "execution_count": null,
     "metadata": {},
     "output_type": "execute_result"
    }
   ],
   "source": [
    "head_model=torch.nn.Linear(2,3,bias=False)\n",
    "middle_model=torch.nn.Linear(3,4,bias=False)\n",
    "tail_model=torch.nn.Linear(4,5,bias=False)\n",
    "\n",
    "def zeros_grad():\n",
    "    head_model.weight.grad=None\n",
    "    middle_model.weight.grad=None\n",
    "    tail_model.weight.grad=None\n",
    "\n",
    "torch.manual_seed(442)\n",
    "X=torch.randn(1,2).requires_grad_(True)\n",
    "y=torch.randn(1,5)\n",
    "\n",
    "h_out=head_model(X)\n",
    "m_out=middle_model(h_out)\n",
    "t_out=tail_model(m_out)\n",
    "loss=nn.functional.mse_loss(t_out,y)+X.sum()\n",
    "\n",
    "zeros_grad()\n",
    "loss.backward()\n",
    "head_model.weight.grad,middle_model.weight.grad,tail_model.weight.grad,X.grad"
   ]
  },
  {
   "cell_type": "code",
   "execution_count": null,
   "id": "451b1f88-0489-46ce-a5bc-f4a30dc0817a",
   "metadata": {},
   "outputs": [
    {
     "data": {
      "text/plain": [
       "(None,\n",
       " None,\n",
       " tensor([[-0.2113, -0.0627, -0.0777,  0.3986],\n",
       "         [ 0.2054,  0.0610,  0.0755, -0.3874],\n",
       "         [-0.0204, -0.0060, -0.0075,  0.0384],\n",
       "         [-0.2465, -0.0732, -0.0907,  0.4650],\n",
       "         [ 0.0779,  0.0231,  0.0286, -0.1469]]),\n",
       " tensor([[1., 1.]]))"
      ]
     },
     "execution_count": null,
     "metadata": {},
     "output_type": "execute_result"
    }
   ],
   "source": [
    "torch.manual_seed(442)\n",
    "X=torch.randn(1,2).requires_grad_(True)\n",
    "y=torch.randn(1,5)\n",
    "\n",
    "with torch.no_grad():\n",
    "    h_out=head_model(X)\n",
    "    m_out=middle_model(h_out)\n",
    "\n",
    "t_out=tail_model(m_out)\n",
    "loss=nn.functional.mse_loss(t_out,y)+X.sum()\n",
    "zeros_grad()\n",
    "\n",
    "loss.backward()\n",
    "head_model.weight.grad,middle_model.weight.grad,tail_model.weight.grad,X.grad"
   ]
  },
  {
   "cell_type": "markdown",
   "id": "58db09d2-45c3-48f3-ba73-2557976e2737",
   "metadata": {},
   "source": [
    "可以看出 no_grad context manager 包围的下的计算，在backward不会参与grad的计算.<font color=red>同时no_grad也切断了输入到它内部的 梯度的传播</font>,注意到 X是没有这一部分的梯度贡献。"
   ]
  },
  {
   "cell_type": "code",
   "execution_count": null,
   "id": "a9755b04-1cfc-4d35-82d9-bfc4955a3756",
   "metadata": {},
   "outputs": [],
   "source": [
    "torch.manual_seed(442)\n",
    "X=torch.randn(1,2).requires_grad_(True)\n",
    "y=torch.randn(1,5)\n",
    "h_out=head_model(X)\n",
    "with torch.inference_mode():\n",
    "     \n",
    "    m_out=middle_model(h_out)\n",
    "    # t_out=tail_model(m_out)\n",
    "\n",
    "# 报错，因为    \n",
    "t_out=tail_model(m_out)\n",
    "\n",
    "loss=nn.functional.mse_loss(t_out,y)+X.sum()\n",
    "zeros_grad()\n",
    "\n",
    "loss.backward()\n",
    "head_model.weight.grad,middle_model.weight.grad,tail_model.weight.grad,X.grad"
   ]
  },
  {
   "cell_type": "markdown",
   "id": "0d02bfc0-b7a6-4a7c-afd5-eb9b9962603c",
   "metadata": {},
   "source": [
    "inference模型是不会有任何和梯度计算有关的中间节点落地报错的，<font color=red>所以及时在这个context manager包围的代码之后，想计算梯度，也是不允许的</font>"
   ]
  },
  {
   "cell_type": "markdown",
   "id": "8ac32b8d",
   "metadata": {},
   "source": [
    "# training中注意事项"
   ]
  },
  {
   "cell_type": "markdown",
   "id": "995a2350",
   "metadata": {},
   "source": [
    "## avg_loss与smooth_loss\n",
    "\n",
    "\n",
    "为了对loss进行平滑处理，我们使用一下`滑动平均`的方式处理loss。\n",
    "\n",
    "\n",
    "$$\n",
    "\\begin{align}\n",
    "    avgLoss(t)&= \\beta  AvgLoss(t-1)+(1-\\beta) L_t \\\\\n",
    "       &=\\beta^2avgLoss(t-2)+\\beta(1-\\beta) L_{t-1} +(1-\\beta) L_t \\\\\n",
    "       &=\\beta^3avgLoss(t-3)+\\beta^2(1-\\beta) L_{t-2}+\\beta(1-\\beta) L_{t-1} +(1-\\beta) L_t\\\\\\\n",
    "       &=\\beta^{t-1}(1-\\beta) L_{1}....+\\beta^2(1-\\beta) L_{t-2}+\\beta(1-\\beta) L_{t-1} +(1-\\beta) L_t\\\\\\\n",
    "\\end{align}\n",
    "$$\n",
    "\n",
    "而Li的权重之和是：\n",
    "\n",
    "$$\n",
    "\\sum_{k=1}^{t}(1-\\beta)\\beta^{k-1} ={1-\\beta^t} \n",
    "$$\n",
    "\n",
    "\n",
    "最后是smoothLoss的公式\n",
    "$$smoothLoss=\\frac{avgLoss}{1-\\beta^t}$$\n",
    "\n",
    "可以看到t非常大的时候，smoothLoss==avgLoss，当t=1时候，$smoothLoss=\\frac{avgLoss}{1-\\beta}$,这就是`偏差修正`。\n"
   ]
  },
  {
   "cell_type": "markdown",
   "id": "762cbf1c",
   "metadata": {},
   "source": [
    "## Adam与AdamW的区别\n",
    "\n",
    "- adma,adamW对m,magnitude进行了 `偏差修正`。\n",
    "- 对于weight decay处理的不同，Adam把$\\lambda \\theta$作为grad的一部分，把偏差修正后的结果更新参数。而AdamW把wd解耦出来，直接使用$\\lambda \\theta$更新了参数。\n",
    "\n",
    "\n",
    "对应的python code\n",
    "```python\n",
    "#Adam\n",
    "dx=g+WD* grad\n",
    "\n",
    "m = beta1*m + (1-beta1)*dx\n",
    "v = beta2*v + (1-beta2)*(dx**2)\n",
    "#偏差修正\n",
    "mt = m / (1-beta1**t)\n",
    "vt = v / (1-beta2**t)\n",
    "x += - learning_rate * mt / (np.sqrt(vt) + eps)\n",
    "\n",
    "#Adam\n",
    "x-=WD*x\n",
    "dx=g\n",
    "\n",
    "m = beta1*m + (1-beta1)*dx\n",
    "v = beta2*v + (1-beta2)*(dx**2)\n",
    "#偏差修正\n",
    "mt = m / (1-beta1**t)\n",
    "vt = v / (1-beta2**t)\n",
    "x += - learning_rate * mt / (np.sqrt(vt) + eps)\n",
    "\n",
    "```"
   ]
  },
  {
   "cell_type": "markdown",
   "id": "20ed385f",
   "metadata": {},
   "source": [
    "## [oneCycle Policy](https://sgugger.github.io/the-1cycle-policy.html)\n",
    "\n",
    "**对于learning rate:**\n",
    "\n",
    "OneCycle Policy采用动态调整learning rate的方法。整个训练期分为`Cycle期和annihilate期`，lr遵循着先升后降，最后消退的设计原则。在cycle 期lr从初始值 到最高值,用掉一半的cycle周期，另一半cycle期再次回到初始值。annihilate期lr减少到初始值的【百分之一】或者更小。这样设计的原因是：\n",
    "\n",
    "- 大的lr不仅能加速训练过程，而且有更大的几率跳过那些更加`陡峭的local minumu`，可防止过拟合，在cycle期让模型参数收敛域那些`平坦的local minumu`.\n",
    "- `annihilate期`使用很小的lr，可以让参数 收敛到`陡峭的local minumu`。\n",
    "\n",
    "$$totalEpono=oneCycle+annihilate$$\n",
    "总之，这是一种先粗粒度，然后再细粒度的设计方法。\n",
    "from fastai.vision.all import *"
   ]
  },
  {
   "cell_type": "markdown",
   "id": "b025efcf-4f2c-405e-990d-018282abc8b6",
   "metadata": {},
   "source": [
    "## [lr的选取](https://sgugger.github.io/how-do-you-find-a-good-learning-rate.html)"
   ]
  },
  {
   "cell_type": "code",
   "execution_count": null,
   "id": "f1d1c111-4da6-403a-9976-34ef613f6d78",
   "metadata": {},
   "outputs": [],
   "source": [
    "from fastai.vision.all import *\n",
    "import torch,torch.nn as nn\n",
    "from tqdm.auto import tqdm\n",
    "# path='/Users/zhanggxk/project/paddy/data/train_images'\n",
    "path=untar_data(URLs.CIFAR)\n",
    "dls=ImageDataLoaders.from_folder(path,valid_pct=0.2,item_tfms=Resize(32),bs=512)\n"
   ]
  },
  {
   "cell_type": "code",
   "execution_count": null,
   "id": "4450f20d-6e7b-4eaf-9533-46456d96cf37",
   "metadata": {},
   "outputs": [],
   "source": [
    "# ResNet56\n",
    "class BasicBlock(nn.Module):\n",
    "    def __init__(self, ch_in, ch_out, stride=1):\n",
    "        super().__init__()\n",
    "        self.bn1 = nn.BatchNorm2d(ch_out)\n",
    "        self.conv1 = nn.Conv2d(ch_in, ch_out, kernel_size=3, stride=stride, padding=1, bias=False)\n",
    "        self.bn2 = nn.BatchNorm2d(ch_out)\n",
    "        self.conv2 = nn.Conv2d(ch_out, ch_out, kernel_size=3, stride=1, padding=1, bias=False)\n",
    "\n",
    "        if stride != 1 or ch_in != ch_out:\n",
    "            self.shortcut = nn.Sequential(\n",
    "                nn.Conv2d(ch_in, ch_out, kernel_size=1, stride=stride, bias=False),\n",
    "                nn.BatchNorm2d(ch_out)\n",
    "            )\n",
    "\n",
    "    def forward(self, x):\n",
    "        shortcut = self.shortcut(x) if hasattr(self, 'shortcut') else x\n",
    "        out = self.conv1(x)\n",
    "        out = self.bn2(self.conv2(F.relu(self.bn1(out))))\n",
    "        out += shortcut\n",
    "        return F.relu(out)\n",
    "    \n",
    "class ResNet(nn.Module):\n",
    "    def __init__(self, num_blocks, num_classes=10):\n",
    "        super().__init__()\n",
    "        self.conv1 = nn.Conv2d(3, 16, kernel_size=3, stride=1, padding=1, bias=False)\n",
    "        self.bn1 = nn.BatchNorm2d(16)\n",
    "        self.layer1 = self.make_group_layer(16, 16, num_blocks[0], stride=1)\n",
    "        self.layer2 = self.make_group_layer(16, 32, num_blocks[1], stride=2)\n",
    "        self.layer3 = self.make_group_layer(32, 64, num_blocks[2], stride=2)\n",
    "        self.linear = nn.Linear(64, num_classes)\n",
    "\n",
    "    def make_group_layer(self,ch_in, ch_out, num_blocks, stride):\n",
    "        layers = [BasicBlock(ch_in, ch_out, stride)]\n",
    "        for i in range(num_blocks-1):\n",
    "            layers.append(BasicBlock(ch_out, ch_out, stride=1))\n",
    "        return nn.Sequential(*layers)\n",
    "\n",
    "    def forward(self, x):\n",
    "        out = F.relu(self.bn1(self.conv1(x)))\n",
    "        out = self.layer1(out)\n",
    "        out = self.layer2(out)\n",
    "        out = self.layer3(out)\n",
    "        out = F.adaptive_avg_pool2d(out, 1)\n",
    "        out = out.view(out.size(0), -1)\n",
    "        return self.linear(out)"
   ]
  },
  {
   "cell_type": "markdown",
   "id": "696c5ece-8145-4d65-bf0a-4fd9958115b9",
   "metadata": {},
   "source": [
    "通过以下代码与图表可以看到`偏移修正`的作用"
   ]
  },
  {
   "cell_type": "code",
   "execution_count": null,
   "id": "aff549cc-430d-41a8-9460-753bbfe58ded",
   "metadata": {},
   "outputs": [
    {
     "data": {
      "text/plain": [
       "<matplotlib.legend.Legend>"
      ]
     },
     "execution_count": null,
     "metadata": {},
     "output_type": "execute_result"
    },
    {
     "data": {
      "image/png": "[encoded data removed]",
      "text/plain": [
       "<Figure size 640x480 with 1 Axes>"
      ]
     },
     "metadata": {},
     "output_type": "display_data"
    }
   ],
   "source": [
    "x,lb=dls.train.one_batch()\n",
    "model=ResNet([9,9,9],10).to(lb.device)\n",
    "optimizer=torch.optim.Adam(model.parameters(),1e-2)\n",
    "\n",
    "lss=[]\n",
    "for i in tqdm(range(100)):\n",
    "    y=model(x) \n",
    "\n",
    "\n",
    "    logits=y.as_subclass(torch.Tensor)\n",
    "    labels=lb.as_subclass(torch.Tensor)\n",
    "\n",
    "    loss=F.cross_entropy(logits,labels);\n",
    "    loss.backward()\n",
    "    optimizer.step()\n",
    "    optimizer.zero_grad()\n",
    "    lss.append(loss.item())\n",
    "    \n",
    "    \n",
    "beta=0.95\n",
    "avg_loss=[0]\n",
    "smooth_loss=[]\n",
    "for k in range(len(lss)):\n",
    "    l=beta*avg_loss[-1]+(1-beta)*lss[k]\n",
    "    avg_loss.append(l)\n",
    "    smooth_loss.append(l/(1-beta**(k+1)))\n",
    "plt.plot(range(len(lss)),lss,label='loss')\n",
    "avg_loss=avg_loss[1:]\n",
    "plt.plot(range(len(avg_loss)),avg_loss,label='avg loss')\n",
    "plt.plot(range(len(smooth_loss)),smooth_loss,label='smooth_loss')\n",
    "plt.legend()"
   ]
  },
  {
   "cell_type": "markdown",
   "id": "2ee749a3-0fbc-43f7-9b90-53bc92b11d04",
   "metadata": {},
   "source": [
    "下面这里我写了一个Bug,废了很长时间才找到问题，你能看出问题来吗？"
   ]
  },
  {
   "cell_type": "markdown",
   "id": "78cae805-2651-4391-84cd-9d6bce7d8f3b",
   "metadata": {},
   "source": [
    "```python\n",
    "def find_lr(dls,init_value = 1e-8, final_value=10.,steps=100, beta = 0.98):\n",
    "    avg_loss,lrs=[0],[]\n",
    "    best_loss=1e10\n",
    "    \n",
    "    mul=(final_value/init_value)**(steps**-1)\n",
    "    # optimizer.param_groups[0]['lr']=init_value\n",
    "    x,lb=dls.one_batch()\n",
    "    for k in tqdm(range(steps)):\n",
    "        y=model(x)\n",
    "        logits=y.as_subclass(torch.Tensor)\n",
    "        labels=lb.as_subclass(torch.Tensor)\n",
    "        loss=F.cross_entropy(logits,labels);\n",
    "        loss.backward()\n",
    "        with torch.no_grad():\n",
    "            loss=loss.cpu().item()\n",
    "            \n",
    "            current_avg_loss=(avg_loss[-1]*beta+loss*(1-beta) )/(1-beta**(k+1))\n",
    "            print(loss,current_avg_loss,avg_loss[-1]*beta+loss*(1-beta),(1-beta**(k+1)))\n",
    "            \n",
    "            avg_loss.append(current_avg_loss)\n",
    "            lrs.append(optimizer.param_groups[0]['lr'])\n",
    "            \n",
    "            if current_avg_loss<best_loss:\n",
    "                best_loss=current_avg_loss\n",
    "            if current_avg_loss>4*best_loss:\n",
    "                pass\n",
    "        optimizer.step()\n",
    "        optimizer.zero_grad()\n",
    "        # optimizer.param_groups[0]['lr']*=mul\n",
    "        \n",
    "        \n",
    "    return avg_loss[1:],lrs\n",
    "```\n"
   ]
  },
  {
   "cell_type": "code",
   "execution_count": null,
   "id": "37380d95-c31d-4b33-a30e-21b451019556",
   "metadata": {},
   "outputs": [
    {
     "data": {
      "application/vnd.jupyter.widget-view+json": {
       "model_id": "0de67e9205dd4f2ba043a4f8f7fed605",
       "version_major": 2,
       "version_minor": 0
      },
      "text/plain": [
       "0it [00:00, ?it/s]"
      ]
     },
     "metadata": {},
     "output_type": "display_data"
    }
   ],
   "source": [
    "def find_lr(dls,init_value = 1e-8, final_value=10., beta = 0.98):\n",
    "    smooth_loss,lrs=[],[]\n",
    "    best_loss=1e10\n",
    "    avg_loss=0\n",
    "    steps=len(dls)-1\n",
    "    \n",
    "    mul=(final_value/init_value)**(steps**-1)\n",
    "    optimizer.param_groups[0]['lr']=init_value\n",
    "    \n",
    "    for k,(x,lb) in tqdm(enumerate(dls)):\n",
    "        y=model(x)\n",
    "        logits=y.as_subclass(torch.Tensor)\n",
    "        labels=lb.as_subclass(torch.Tensor)\n",
    "        loss=F.cross_entropy(logits,labels);\n",
    "        loss.backward()\n",
    "        with torch.no_grad():\n",
    "            loss=loss.cpu().item()\n",
    "            avg_loss=avg_loss*beta+loss*(1-beta)\n",
    "            \n",
    "            current_avg_loss=avg_loss/(1-beta**(k+1))\n",
    "            \n",
    "            smooth_loss.append(current_avg_loss)\n",
    "            lrs.append(optimizer.param_groups[0]['lr'])\n",
    "            \n",
    "            if current_avg_loss<best_loss:\n",
    "                best_loss=current_avg_loss\n",
    "            if current_avg_loss>4*best_loss:\n",
    "                pass\n",
    "        optimizer.step()\n",
    "        optimizer.zero_grad()\n",
    "        optimizer.param_groups[0]['lr']*=mul\n",
    "        \n",
    "        \n",
    "    return smooth_loss,lrs\n",
    "\n",
    "model=ResNet([9,9,9],10).to(lb.device)\n",
    "optimizer=torch.optim.Adam(model.parameters(),1e-2)\n",
    "smooth_loss,lrs=find_lr(dls.train,init_value = 1e-5, final_value=1)"
   ]
  },
  {
   "cell_type": "code",
   "execution_count": null,
   "id": "55ac934a-7127-43be-9d09-c78b28a1fd06",
   "metadata": {},
   "outputs": [
    {
     "data": {
      "image/png": "[encoded data removed]",
      "text/plain": [
       "<Figure size 640x480 with 1 Axes>"
      ]
     },
     "metadata": {},
     "output_type": "display_data"
    }
   ],
   "source": [
    "plt.plot(lrs,smooth_loss)\n",
    "plt.xscale('log')"
   ]
  },
  {
   "cell_type": "markdown",
   "id": "4fcb91a2",
   "metadata": {},
   "source": [
    "## Optimizer对象\n",
    "\n",
    "我们知道一个最简单的optimzer可以定义成如下\n",
    "```python\n",
    "model=nn.Linear(3,2)\n",
    "optimizer=torch.optim.SGD(model.parameters(),lr=1e-3,momentum=0.9)\n",
    "```\n",
    "- params参数是个迭代器，迭代返回要优化的参数,例如类型-> `List[Dict[str,Any]]`\n",
    "- lr,momentum是优化器必要的参数\n",
    "- 这样设置的只有一个组，通过`param_groups[0]['lr']`可以访问上面的args.\n",
    "\n",
    "**但我们也可以定义如下的迭代器，迭代返回是一个dict，dict的key必须对定于构造器的args**.\n",
    "\n",
    "**param_groups[0],param_groups[1]可以分组访问优化器**"
   ]
  },
  {
   "cell_type": "code",
   "execution_count": null,
   "id": "559f5908",
   "metadata": {},
   "outputs": [],
   "source": [
    "import torch,torch.nn as nn\n",
    "\n",
    "optimizer=torch.optim.SGD([\n",
    "    {'lr':1e-3,'momentum':0.9,'params':model1.parameters()},\n",
    "    {'lr':1e-4,'momentum':0.3,'params':model2.parameters()},\n",
    "])\n",
    "optimizer.param_groups[1]"
   ]
  },
  {
   "cell_type": "markdown",
   "id": "e9980138",
   "metadata": {},
   "source": [
    "# matplotlib"
   ]
  },
  {
   "cell_type": "markdown",
   "id": "afed6979",
   "metadata": {},
   "source": [
    "logscale的图怎么看？\n",
    "\n",
    "线性等分的坐标在logscale上`相邻点之间距离`区别很大."
   ]
  },
  {
   "cell_type": "code",
   "execution_count": null,
   "id": "45dcdc28",
   "metadata": {},
   "outputs": [
    {
     "data": {
      "text/plain": [
       "<matplotlib.legend.Legend>"
      ]
     },
     "execution_count": null,
     "metadata": {},
     "output_type": "execute_result"
    },
    {
     "data": {
      "image/png": "[encoded data removed]",
      "text/plain": [
       "<Figure size 640x480 with 1 Axes>"
      ]
     },
     "metadata": {},
     "output_type": "display_data"
    }
   ],
   "source": [
    "import matplotlib.pyplot as plt\n",
    "import numpy as np\n",
    "%matplotlib inline\n",
    "\n",
    "xx=10**np.linspace(-1,0,10)\n",
    "yy=[1]*len(xx)\n",
    "# plt.xscale('log')\n",
    "plt.semilogx()\n",
    "plt.plot(xx,yy)\n",
    "\n",
    "xx=np.linspace(0.1,1,10)\n",
    "plt.scatter(xx,yy,marker='x',label='linear space[0.1,1,10]')\n",
    "\n",
    "for k in range(1,10):\n",
    "    plt.text(0.1*k,1-0.005,f'{0.1*k:.1f}')\n",
    "plt.legend()"
   ]
  },
  {
   "cell_type": "code",
   "execution_count": null,
   "id": "3a850649-4f84-45c6-8ad3-4e71657bbe65",
   "metadata": {},
   "outputs": [],
   "source": [
    "#|hide\n",
    "from nbdev import nbdev_export\n",
    "nbdev_export()"
   ]
  },
  {
   "cell_type": "code",
   "execution_count": null,
   "id": "9a0aecff-985a-423d-981f-711d3d934411",
   "metadata": {},
   "outputs": [],
   "source": []
  }
 ],
 "metadata": {
  "kernelspec": {
   "display_name": "Python 3 (ipykernel)",
   "language": "python",
   "name": "python3"
  },
  "language_info": {
   "codemirror_mode": {
    "name": "ipython",
    "version": 3
   },
   "file_extension": ".py",
   "mimetype": "text/x-python",
   "name": "python",
   "nbconvert_exporter": "python",
   "pygments_lexer": "ipython3",
   "version": "3.10.9"
  }
 },
 "nbformat": 4,
 "nbformat_minor": 5
}
